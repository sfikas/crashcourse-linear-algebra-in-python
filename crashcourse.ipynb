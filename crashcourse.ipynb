{
 "cells": [
  {
   "cell_type": "markdown",
   "metadata": {},
   "source": [
    "# Γραμμική Άλγεβρα με την Python"
   ]
  },
  {
   "cell_type": "markdown",
   "metadata": {},
   "source": [
    "Σύντομος οδηγός χρήσης της Python για βασικούς υπολογισμούς γραμμικής άλγεβρας.\n",
    "\n",
    "Για το μάθημα της [Γραμμικής Άλγεβρας](http://ecourse.uoi.gr/course/view.php?id=1347) στο [Τμήμα Μηχανικών Η/Υ και Πληροφορικής](http://www.cse.uoi.gr/), χειμερινό εξάμηνο 2018-2019, [Γιώργος Σφήκας](http://www.cs.uoi.gr/~sfikas/)."
   ]
  },
  {
   "cell_type": "markdown",
   "metadata": {},
   "source": [
    "### Ορισμός πινάκων, διανυσμάτων. Πρόσθεση και βαθμωτός πολλαπλασιασμός"
   ]
  },
  {
   "cell_type": "code",
   "execution_count": null,
   "metadata": {},
   "outputs": [],
   "source": []
  }
 ],
 "metadata": {
  "kernelspec": {
   "display_name": "Python 2",
   "language": "python",
   "name": "python2"
  },
  "language_info": {
   "codemirror_mode": {
    "name": "ipython",
    "version": 2
   },
   "file_extension": ".py",
   "mimetype": "text/x-python",
   "name": "python",
   "nbconvert_exporter": "python",
   "pygments_lexer": "ipython2",
   "version": "2.7.12"
  }
 },
 "nbformat": 4,
 "nbformat_minor": 1
}
